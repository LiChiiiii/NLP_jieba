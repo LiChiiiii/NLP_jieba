{
  "nbformat": 4,
  "nbformat_minor": 0,
  "metadata": {
    "colab": {
      "name": "nlp_hw01.ipynb",
      "provenance": [],
      "collapsed_sections": [],
      "authorship_tag": "ABX9TyP0uavyjuHDM+BnUezGVQJD",
      "include_colab_link": true
    },
    "kernelspec": {
      "name": "python3",
      "display_name": "Python 3"
    },
    "language_info": {
      "name": "python"
    }
  },
  "cells": [
    {
      "cell_type": "markdown",
      "metadata": {
        "id": "view-in-github",
        "colab_type": "text"
      },
      "source": [
        "<a href=\"https://colab.research.google.com/github/LiChiiiii/NLP_jieba/blob/master/nlp_hw01.ipynb\" target=\"_parent\"><img src=\"https://colab.research.google.com/assets/colab-badge.svg\" alt=\"Open In Colab\"/></a>"
      ]
    },
    {
      "cell_type": "code",
      "metadata": {
        "colab": {
          "base_uri": "https://localhost:8080/"
        },
        "id": "OCDEEvyd4puL",
        "outputId": "d7ca32ba-2103-48b1-c98a-70fe1a4dfdf5"
      },
      "source": [
        "!pip install jieba\n",
        "!pip install pandas "
      ],
      "execution_count": null,
      "outputs": [
        {
          "output_type": "stream",
          "text": [
            "Requirement already satisfied: jieba in /usr/local/lib/python3.7/dist-packages (0.42.1)\n"
          ],
          "name": "stdout"
        }
      ]
    },
    {
      "cell_type": "code",
      "metadata": {
        "id": "qe9XwZq6AIoa",
        "colab": {
          "base_uri": "https://localhost:8080/"
        },
        "outputId": "49140dbb-a91a-4009-ca88-1bacd0b603a6"
      },
      "source": [
        "import jieba\n",
        "import jieba.analyse\n",
        "path = 'hw1-dataset.txt'\n",
        "f = open(path, 'r')\n",
        "text = []\n",
        "for line in f.readlines():\n",
        "    seg_list = jieba.lcut(line, cut_all=False)\n",
        "    text.append(seg_list)\n",
        "f.close\n",
        "text_rows = len(text)\n",
        "print(text_rows)\n",
        "print(\"success\")"
      ],
      "execution_count": 48,
      "outputs": [
        {
          "output_type": "stream",
          "text": [
            "418202\n",
            "success\n"
          ],
          "name": "stdout"
        }
      ]
    },
    {
      "cell_type": "code",
      "metadata": {
        "colab": {
          "base_uri": "https://localhost:8080/",
          "height": 204
        },
        "id": "ja71VZDDLz0p",
        "outputId": "23b41759-cc3d-433a-e555-07629b003239"
      },
      "source": [
        "import pandas as pd\n",
        "arr = groups = [[\"Movies\", 46],[\"Sports\", 8], [\"Coding\", 12], [\"Fishing\",12], [\"Dancing\",6], [\"cooking\",8]]\n",
        "\n",
        "df = pd.DataFrame(arr, columns = [\"name\", \"num\"]) # 指定欄標籤名稱  \n",
        "df.head()"
      ],
      "execution_count": 31,
      "outputs": [
        {
          "output_type": "execute_result",
          "data": {
            "text/html": [
              "<div>\n",
              "<style scoped>\n",
              "    .dataframe tbody tr th:only-of-type {\n",
              "        vertical-align: middle;\n",
              "    }\n",
              "\n",
              "    .dataframe tbody tr th {\n",
              "        vertical-align: top;\n",
              "    }\n",
              "\n",
              "    .dataframe thead th {\n",
              "        text-align: right;\n",
              "    }\n",
              "</style>\n",
              "<table border=\"1\" class=\"dataframe\">\n",
              "  <thead>\n",
              "    <tr style=\"text-align: right;\">\n",
              "      <th></th>\n",
              "      <th>name</th>\n",
              "      <th>num</th>\n",
              "    </tr>\n",
              "  </thead>\n",
              "  <tbody>\n",
              "    <tr>\n",
              "      <th>0</th>\n",
              "      <td>Movies</td>\n",
              "      <td>46</td>\n",
              "    </tr>\n",
              "    <tr>\n",
              "      <th>1</th>\n",
              "      <td>Sports</td>\n",
              "      <td>8</td>\n",
              "    </tr>\n",
              "    <tr>\n",
              "      <th>2</th>\n",
              "      <td>Coding</td>\n",
              "      <td>12</td>\n",
              "    </tr>\n",
              "    <tr>\n",
              "      <th>3</th>\n",
              "      <td>Fishing</td>\n",
              "      <td>12</td>\n",
              "    </tr>\n",
              "    <tr>\n",
              "      <th>4</th>\n",
              "      <td>Dancing</td>\n",
              "      <td>6</td>\n",
              "    </tr>\n",
              "  </tbody>\n",
              "</table>\n",
              "</div>"
            ],
            "text/plain": [
              "      name  num\n",
              "0   Movies   46\n",
              "1   Sports    8\n",
              "2   Coding   12\n",
              "3  Fishing   12\n",
              "4  Dancing    6"
            ]
          },
          "metadata": {
            "tags": []
          },
          "execution_count": 31
        }
      ]
    }
  ]
}