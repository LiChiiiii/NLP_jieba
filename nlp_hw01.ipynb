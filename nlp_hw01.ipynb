{
  "nbformat": 4,
  "nbformat_minor": 0,
  "metadata": {
    "colab": {
      "name": "nlp_hw01.ipynb",
      "provenance": [],
      "authorship_tag": "ABX9TyPBVwniEt0PZMda9o7vbMVI",
      "include_colab_link": true
    },
    "kernelspec": {
      "name": "python3",
      "display_name": "Python 3"
    },
    "language_info": {
      "name": "python"
    }
  },
  "cells": [
    {
      "cell_type": "markdown",
      "metadata": {
        "id": "view-in-github",
        "colab_type": "text"
      },
      "source": [
        "<a href=\"https://colab.research.google.com/github/LiChiiiii/NLP_jieba/blob/master/nlp_hw01.ipynb\" target=\"_parent\"><img src=\"https://colab.research.google.com/assets/colab-badge.svg\" alt=\"Open In Colab\"/></a>"
      ]
    },
    {
      "cell_type": "code",
      "metadata": {
        "colab": {
          "base_uri": "https://localhost:8080/"
        },
        "id": "OCDEEvyd4puL",
        "outputId": "d7ca32ba-2103-48b1-c98a-70fe1a4dfdf5"
      },
      "source": [
        "!pip install jieba\n",
        "!pip install pandas "
      ],
      "execution_count": null,
      "outputs": [
        {
          "output_type": "stream",
          "text": [
            "Requirement already satisfied: jieba in /usr/local/lib/python3.7/dist-packages (0.42.1)\n"
          ],
          "name": "stdout"
        }
      ]
    },
    {
      "cell_type": "code",
      "metadata": {
        "id": "VsspvRG_6Gkb"
      },
      "source": [
        "import jieba\n",
        "import jieba.analyse"
      ],
      "execution_count": null,
      "outputs": []
    },
    {
      "cell_type": "code",
      "metadata": {
        "id": "qe9XwZq6AIoa",
        "colab": {
          "base_uri": "https://localhost:8080/"
        },
        "outputId": "69355676-cefd-4adc-d87f-597967a21670"
      },
      "source": [
        "Text ='氣象局指出，今天（15日）在西南風影響下，清晨至上午中南部沿海會有零星短暫陣雨，其他地區上半天雖然大致維持多雲到晴，不過由於環境水氣增多，天氣趨於不穩定，午後雷陣雨範圍將會擴大，除東半部地區及西半部山區外，大台北地區及西半部山區附近平地也有午後雷雨發生的機率，午後對流出現的時間會比較早，降雨有機會持續到晚上，並且局部地區也有短時強降雨發生的機率，請多留意午後天氣的變化。溫度方面，各地白天暖熱，高溫普遍約30到33度，南部近山區平地有機會出現36度以上高溫，中午前後請多補充水分及做好防曬措施，而各地夜晚及清晨低溫普遍在22至25度之間，相對舒適許多'\n",
        "# 默認模式\n",
        "seg_list = jieba.cut(Text, cut_all=False)\n",
        "print('generator: ',seg_list)\n",
        "for seg in seg_list:\n",
        "  print(seg,end=' ')\n",
        "print('')\n",
        "seg_list = jieba.lcut(Text, cut_all=False)\n",
        "print('list: ',seg_list)"
      ],
      "execution_count": 13,
      "outputs": [
        {
          "output_type": "stream",
          "text": [
            "generator:  <generator object Tokenizer.cut at 0x7fd10a05de50>\n",
            "氣象局 指出 ， 今天 （ 15 日 ） 在 西南 風影響 下 ， 清晨 至 上午 中南部 沿海 會 有 零星 短 暫陣雨 ， 其他 地區 上半天 雖然 大致 維持 多雲到 晴 ， 不過 由 於 環境 水氣 增多 ， 天氣 趨 於 不 穩定 ， 午後雷陣 雨範圍 將會 擴大 ， 除東 半部 地區 及西 半部 山區 外 ， 大台北 地區 及西 半部 山區 附近 平地 也 有午 後 雷雨 發生 的 機率 ， 午後對 流出 現 的 時間 會 比 較 早 ， 降雨 有 機會 持續 到 晚上 ， 並且 局部 地區 也 有 短 時強 降雨 發生 的 機率 ， 請 多 留意 午後天氣 的 變化 。 溫度 方面 ， 各地 白天 暖熱 ， 高溫 普遍 約 30 到 33 度 ， 南部 近山區 平地 有 機會 出現 36 度 以上 高溫 ， 中午 前後請 多 補充 水分 及 做好 防曬 措施 ， 而 各地 夜晚 及 清晨 低溫 普遍 在 22 至 25 度之間 ， 相對 舒適 許多 \n",
            "list:  ['氣象局', '指出', '，', '今天', '（', '15', '日', '）', '在', '西南', '風影響', '下', '，', '清晨', '至', '上午', '中南部', '沿海', '會', '有', '零星', '短', '暫陣雨', '，', '其他', '地區', '上半天', '雖然', '大致', '維持', '多雲到', '晴', '，', '不過', '由', '於', '環境', '水氣', '增多', '，', '天氣', '趨', '於', '不', '穩定', '，', '午後雷陣', '雨範圍', '將會', '擴大', '，', '除東', '半部', '地區', '及西', '半部', '山區', '外', '，', '大台北', '地區', '及西', '半部', '山區', '附近', '平地', '也', '有午', '後', '雷雨', '發生', '的', '機率', '，', '午後對', '流出', '現', '的', '時間', '會', '比', '較', '早', '，', '降雨', '有', '機會', '持續', '到', '晚上', '，', '並且', '局部', '地區', '也', '有', '短', '時強', '降雨', '發生', '的', '機率', '，', '請', '多', '留意', '午後天氣', '的', '變化', '。', '溫度', '方面', '，', '各地', '白天', '暖熱', '，', '高溫', '普遍', '約', '30', '到', '33', '度', '，', '南部', '近山區', '平地', '有', '機會', '出現', '36', '度', '以上', '高溫', '，', '中午', '前後請', '多', '補充', '水分', '及', '做好', '防曬', '措施', '，', '而', '各地', '夜晚', '及', '清晨', '低溫', '普遍', '在', '22', '至', '25', '度之間', '，', '相對', '舒適', '許多']\n"
          ],
          "name": "stdout"
        }
      ]
    },
    {
      "cell_type": "code",
      "metadata": {
        "colab": {
          "base_uri": "https://localhost:8080/",
          "height": 235
        },
        "id": "ukd9ZmFJJoEz",
        "outputId": "8c970288-45d4-4e41-9f8a-7f07ee6737e8"
      },
      "source": [
        "import pandas as pd\n",
        "def count_segment_freq(seg_list):\n",
        "  seg_df = pd.DataFrame(seg_list,columns=['seg'])\n",
        "  seg_df['count'] = 1\n",
        "  sef_freq = seg_df.groupby('seg')['count'].sum().sort_values(ascending=False)\n",
        "  sef_freq = pd.DataFrame(sef_freq)\n",
        "  return sef_freq\n",
        "sef_freq = count_segment_freq(seg_list)\n",
        "sef_freq.head()"
      ],
      "execution_count": 15,
      "outputs": [
        {
          "output_type": "execute_result",
          "data": {
            "text/html": [
              "<div>\n",
              "<style scoped>\n",
              "    .dataframe tbody tr th:only-of-type {\n",
              "        vertical-align: middle;\n",
              "    }\n",
              "\n",
              "    .dataframe tbody tr th {\n",
              "        vertical-align: top;\n",
              "    }\n",
              "\n",
              "    .dataframe thead th {\n",
              "        text-align: right;\n",
              "    }\n",
              "</style>\n",
              "<table border=\"1\" class=\"dataframe\">\n",
              "  <thead>\n",
              "    <tr style=\"text-align: right;\">\n",
              "      <th></th>\n",
              "      <th>count</th>\n",
              "    </tr>\n",
              "    <tr>\n",
              "      <th>seg</th>\n",
              "      <th></th>\n",
              "    </tr>\n",
              "  </thead>\n",
              "  <tbody>\n",
              "    <tr>\n",
              "      <th>，</th>\n",
              "      <td>18</td>\n",
              "    </tr>\n",
              "    <tr>\n",
              "      <th>地區</th>\n",
              "      <td>4</td>\n",
              "    </tr>\n",
              "    <tr>\n",
              "      <th>的</th>\n",
              "      <td>4</td>\n",
              "    </tr>\n",
              "    <tr>\n",
              "      <th>有</th>\n",
              "      <td>4</td>\n",
              "    </tr>\n",
              "    <tr>\n",
              "      <th>半部</th>\n",
              "      <td>3</td>\n",
              "    </tr>\n",
              "  </tbody>\n",
              "</table>\n",
              "</div>"
            ],
            "text/plain": [
              "     count\n",
              "seg       \n",
              "，       18\n",
              "地區       4\n",
              "的        4\n",
              "有        4\n",
              "半部       3"
            ]
          },
          "metadata": {
            "tags": []
          },
          "execution_count": 15
        }
      ]
    }
  ]
}