{
  "nbformat": 4,
  "nbformat_minor": 0,
  "metadata": {
    "colab": {
      "name": "nlp_hw01.ipynb",
      "provenance": [],
      "collapsed_sections": [],
      "authorship_tag": "ABX9TyPtOJP1eg3DiHVg6qstDnxQ",
      "include_colab_link": true
    },
    "kernelspec": {
      "name": "python3",
      "display_name": "Python 3"
    },
    "language_info": {
      "name": "python"
    }
  },
  "cells": [
    {
      "cell_type": "markdown",
      "metadata": {
        "id": "view-in-github",
        "colab_type": "text"
      },
      "source": [
        "<a href=\"https://colab.research.google.com/github/LiChiiiii/NLP_jieba/blob/master/nlp_hw01.ipynb\" target=\"_parent\"><img src=\"https://colab.research.google.com/assets/colab-badge.svg\" alt=\"Open In Colab\"/></a>"
      ]
    },
    {
      "cell_type": "code",
      "metadata": {
        "colab": {
          "base_uri": "https://localhost:8080/"
        },
        "id": "OCDEEvyd4puL",
        "outputId": "d7ca32ba-2103-48b1-c98a-70fe1a4dfdf5"
      },
      "source": [
        "!pip install jieba\n",
        "!pip install pandas "
      ],
      "execution_count": null,
      "outputs": [
        {
          "output_type": "stream",
          "text": [
            "Requirement already satisfied: jieba in /usr/local/lib/python3.7/dist-packages (0.42.1)\n"
          ],
          "name": "stdout"
        }
      ]
    },
    {
      "cell_type": "code",
      "metadata": {
        "colab": {
          "base_uri": "https://localhost:8080/",
          "height": 252
        },
        "id": "NAzneA--Yp5C",
        "outputId": "90547bd1-6167-435d-e10a-477a34e3ce7e"
      },
      "source": [
        "import jieba\n",
        "import jieba.analyse\n",
        "import pandas as pd\n",
        "\n",
        "def remove_stop_words(file_name,seg_list):\n",
        "  with open(file_name,'r') as f:\n",
        "    stop_words = f.readlines()\n",
        "\n",
        "  stop_words = [stop_word.rstrip() for stop_word in stop_words]\n",
        "  new_list = []\n",
        "  \n",
        "  for seg in seg_list:\n",
        "    if seg not in stop_words:\n",
        "      new_list.append(seg)\n",
        "  return new_list\n",
        "\n",
        "def count_segment_freq(text):\n",
        "  seg_df = pd.DataFrame(text,columns=['seg'])\n",
        "  seg_df['count'] = 1\n",
        "  sef_freq = seg_df.groupby('seg')['count'].sum().sort_values(ascending=False)\n",
        "  sef_freq = pd.DataFrame(sef_freq)\n",
        "  return sef_freq\n",
        "\n",
        "\n",
        "stop_file = 'remove.txt'\n",
        "path = 'hw1-dataset.txt'\n",
        "f = open(path, 'r')\n",
        "text = []\n",
        "seg_list = jieba.cut(f.read(), cut_all=False)\n",
        "seg_lists = remove_stop_words(stop_file,seg_list)\n",
        "f.close\n",
        "for data in seg_lists:\n",
        "  text.append(data)\n",
        "print(\"success\")\n",
        "sef_freq = count_segment_freq(text)\n",
        "sef_freq.head()"
      ],
      "execution_count": 84,
      "outputs": [
        {
          "output_type": "stream",
          "text": [
            "success\n"
          ],
          "name": "stdout"
        },
        {
          "output_type": "execute_result",
          "data": {
            "text/html": [
              "<div>\n",
              "<style scoped>\n",
              "    .dataframe tbody tr th:only-of-type {\n",
              "        vertical-align: middle;\n",
              "    }\n",
              "\n",
              "    .dataframe tbody tr th {\n",
              "        vertical-align: top;\n",
              "    }\n",
              "\n",
              "    .dataframe thead th {\n",
              "        text-align: right;\n",
              "    }\n",
              "</style>\n",
              "<table border=\"1\" class=\"dataframe\">\n",
              "  <thead>\n",
              "    <tr style=\"text-align: right;\">\n",
              "      <th></th>\n",
              "      <th>count</th>\n",
              "    </tr>\n",
              "    <tr>\n",
              "      <th>seg</th>\n",
              "      <th></th>\n",
              "    </tr>\n",
              "  </thead>\n",
              "  <tbody>\n",
              "    <tr>\n",
              "      <th>\\t</th>\n",
              "      <td>418202</td>\n",
              "    </tr>\n",
              "    <tr>\n",
              "      <th>\\n</th>\n",
              "      <td>418202</td>\n",
              "    </tr>\n",
              "    <tr>\n",
              "      <th>的</th>\n",
              "      <td>317883</td>\n",
              "    </tr>\n",
              "    <tr>\n",
              "      <th></th>\n",
              "      <td>294598</td>\n",
              "    </tr>\n",
              "    <tr>\n",
              "      <th>有</th>\n",
              "      <td>202811</td>\n",
              "    </tr>\n",
              "  </tbody>\n",
              "</table>\n",
              "</div>"
            ],
            "text/plain": [
              "      count\n",
              "seg        \n",
              "\\t   418202\n",
              "\\n   418202\n",
              "的    317883\n",
              "     294598\n",
              "有    202811"
            ]
          },
          "metadata": {
            "tags": []
          },
          "execution_count": 84
        }
      ]
    },
    {
      "cell_type": "code",
      "metadata": {
        "colab": {
          "base_uri": "https://localhost:8080/",
          "height": 235
        },
        "id": "ja71VZDDLz0p",
        "outputId": "d0518847-e946-4c52-cf30-ff3564de8f0f"
      },
      "source": [
        "# 統計詞頻\n",
        "import pandas as pd\n",
        "def count_segment_freq(text):\n",
        "  seg_df = pd.DataFrame(text,columns=['seg'])\n",
        "  seg_df['count'] = 1\n",
        "  sef_freq = seg_df.groupby('seg')['count'].sum().sort_values(ascending=False)\n",
        "  sef_freq = pd.DataFrame(sef_freq)\n",
        "  return sef_freq\n",
        "\n",
        "sef_freq = count_segment_freq(text)\n",
        "sef_freq.head()"
      ],
      "execution_count": 80,
      "outputs": [
        {
          "output_type": "execute_result",
          "data": {
            "text/html": [
              "<div>\n",
              "<style scoped>\n",
              "    .dataframe tbody tr th:only-of-type {\n",
              "        vertical-align: middle;\n",
              "    }\n",
              "\n",
              "    .dataframe tbody tr th {\n",
              "        vertical-align: top;\n",
              "    }\n",
              "\n",
              "    .dataframe thead th {\n",
              "        text-align: right;\n",
              "    }\n",
              "</style>\n",
              "<table border=\"1\" class=\"dataframe\">\n",
              "  <thead>\n",
              "    <tr style=\"text-align: right;\">\n",
              "      <th></th>\n",
              "      <th>count</th>\n",
              "    </tr>\n",
              "    <tr>\n",
              "      <th>seg</th>\n",
              "      <th></th>\n",
              "    </tr>\n",
              "  </thead>\n",
              "  <tbody>\n",
              "    <tr>\n",
              "      <th>\\t</th>\n",
              "      <td>418202</td>\n",
              "    </tr>\n",
              "    <tr>\n",
              "      <th>\\n</th>\n",
              "      <td>418202</td>\n",
              "    </tr>\n",
              "    <tr>\n",
              "      <th>的</th>\n",
              "      <td>317883</td>\n",
              "    </tr>\n",
              "    <tr>\n",
              "      <th></th>\n",
              "      <td>294598</td>\n",
              "    </tr>\n",
              "    <tr>\n",
              "      <th>有</th>\n",
              "      <td>202811</td>\n",
              "    </tr>\n",
              "  </tbody>\n",
              "</table>\n",
              "</div>"
            ],
            "text/plain": [
              "      count\n",
              "seg        \n",
              "\\t   418202\n",
              "\\n   418202\n",
              "的    317883\n",
              "     294598\n",
              "有    202811"
            ]
          },
          "metadata": {
            "tags": []
          },
          "execution_count": 80
        }
      ]
    }
  ]
}