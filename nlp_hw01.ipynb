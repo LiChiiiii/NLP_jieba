{
  "nbformat": 4,
  "nbformat_minor": 0,
  "metadata": {
    "colab": {
      "name": "nlp_hw01.ipynb",
      "provenance": [],
      "collapsed_sections": [],
      "authorship_tag": "ABX9TyMAheRTVVuuNbmyF6IO8mhz",
      "include_colab_link": true
    },
    "kernelspec": {
      "display_name": "Python 3",
      "name": "python3"
    },
    "language_info": {
      "name": "python"
    }
  },
  "cells": [
    {
      "cell_type": "markdown",
      "metadata": {
        "id": "view-in-github",
        "colab_type": "text"
      },
      "source": [
        "<a href=\"https://colab.research.google.com/github/LiChiiiii/NLP_jieba/blob/master/nlp_hw01.ipynb\" target=\"_parent\"><img src=\"https://colab.research.google.com/assets/colab-badge.svg\" alt=\"Open In Colab\"/></a>"
      ]
    },
    {
      "cell_type": "code",
      "metadata": {
        "colab": {
          "base_uri": "https://localhost:8080/"
        },
        "id": "OCDEEvyd4puL",
        "outputId": "af202355-08c5-4337-b581-ef55c22c8535"
      },
      "source": [
        "!pip install jieba\n",
        "!pip install pandas \n",
        "!pip install matplotlib"
      ],
      "execution_count": 9,
      "outputs": [
        {
          "output_type": "stream",
          "text": [
            "Requirement already satisfied: jieba in /usr/local/lib/python3.7/dist-packages (0.42.1)\n",
            "Requirement already satisfied: pandas in /usr/local/lib/python3.7/dist-packages (1.1.5)\n",
            "Requirement already satisfied: pytz>=2017.2 in /usr/local/lib/python3.7/dist-packages (from pandas) (2018.9)\n",
            "Requirement already satisfied: python-dateutil>=2.7.3 in /usr/local/lib/python3.7/dist-packages (from pandas) (2.8.1)\n",
            "Requirement already satisfied: numpy>=1.15.4 in /usr/local/lib/python3.7/dist-packages (from pandas) (1.19.5)\n",
            "Requirement already satisfied: six>=1.5 in /usr/local/lib/python3.7/dist-packages (from python-dateutil>=2.7.3->pandas) (1.15.0)\n",
            "Requirement already satisfied: matplotlib in /usr/local/lib/python3.7/dist-packages (3.2.2)\n",
            "Requirement already satisfied: numpy>=1.11 in /usr/local/lib/python3.7/dist-packages (from matplotlib) (1.19.5)\n",
            "Requirement already satisfied: cycler>=0.10 in /usr/local/lib/python3.7/dist-packages (from matplotlib) (0.10.0)\n",
            "Requirement already satisfied: kiwisolver>=1.0.1 in /usr/local/lib/python3.7/dist-packages (from matplotlib) (1.3.1)\n",
            "Requirement already satisfied: pyparsing!=2.0.4,!=2.1.2,!=2.1.6,>=2.0.1 in /usr/local/lib/python3.7/dist-packages (from matplotlib) (2.4.7)\n",
            "Requirement already satisfied: python-dateutil>=2.1 in /usr/local/lib/python3.7/dist-packages (from matplotlib) (2.8.1)\n",
            "Requirement already satisfied: six in /usr/local/lib/python3.7/dist-packages (from cycler>=0.10->matplotlib) (1.15.0)\n"
          ],
          "name": "stdout"
        }
      ]
    },
    {
      "cell_type": "code",
      "metadata": {
        "colab": {
          "base_uri": "https://localhost:8080/",
          "height": 607
        },
        "id": "ja71VZDDLz0p",
        "outputId": "5a627023-6242-4418-94ed-8f0bf74a99dd"
      },
      "source": [
        "import jieba\n",
        "import jieba.analyse\n",
        "import re\n",
        "import pandas as pd\n",
        "from collections import Counter\n",
        "import matplotlib.pyplot as plt\n",
        "\n",
        "#中文分詞\n",
        "def seg_data():\n",
        "  cut_words=\"\"\n",
        "  jieba.enable_parallel(4)\n",
        "  for line in open('hw1-dataset.txt',encoding='utf-8'):\n",
        "      line.strip('\\n')\n",
        "      line = re.sub(\"[A-Za-z0-9\\：\\·\\—\\，\\。\\“ \\”\\?\\？\\...\\..]\", \"\", line) #刪掉多餘的符號\n",
        "      seg_list=jieba.cut(line,cut_all=False)  #分詞\n",
        "      cut_words+=(\" \".join(seg_list))\n",
        "  jieba.disable_parallel\n",
        "  all_words=cut_words.split()\n",
        "  return all_words\n",
        "\n",
        "#統計詞頻\n",
        "def counter(all_words): \n",
        "  arr = []\n",
        "  c=Counter()\n",
        "  for x in all_words:\n",
        "      if len(x)>1 and x != '\\r\\n\\t':\n",
        "          c[x] += 1\n",
        "  print('前100個高頻字詞：')\n",
        "  for (k,v) in c.most_common(100): #前100個高頻字詞放到arr\n",
        "      arr.append([k,v])\n",
        "  return arr \n",
        "\n",
        "#權重(fig1)\n",
        "def TF_IDF_figure():\n",
        "\n",
        "#出現頻率圖(fig2)\n",
        "def counter_figure(arr):\n",
        "  df = pd.DataFrame(arr, columns = [\"word\", \"frequency\"]) \n",
        "  print(df) #印出表格\n",
        "  chart = df.plot(  kind='bar',\n",
        "                    title='Word Frequency Analysis',  #圖表標題\n",
        "                    xlabel='Word',  #x軸說明文字\n",
        "                    ylabel='Frequency',  #y軸說明文字\n",
        "                    legend=True,  # 是否顯示圖例\n",
        "                    figsize=(10, 5))  # 圖表大小\n",
        "  plt.show()\n",
        "\n",
        "#TF-IDF\n",
        "def TF_IDF():\n",
        "  content = open('hw1-dataset.txt', 'rb').read()\n",
        "  jieba.enable_parallel(4)\n",
        "  index = jieba.analyse.extract_tags(content,100,withWeight=True)\n",
        "  for key,weight in index :\n",
        "      print(\"index: %s\\t\\t weight: %f\" % (key,weight))\n",
        "  jieba.disable_parallel\n",
        "\n",
        "#main\n",
        "Text = seg_data()\n",
        "array = counter(Text)\n",
        "counter_figure(array)\n",
        "# TF_IDF()"
      ],
      "execution_count": 10,
      "outputs": [
        {
          "output_type": "stream",
          "text": [
            "前100個高頻字詞：\n",
            "   word  frequency\n",
            "0    八卦      79123\n",
            "1    什麼      57987\n",
            "2    台灣      35008\n",
            "3    怎麼      33188\n",
            "4    可以      23235\n",
            "..  ...        ...\n",
            "95   南部       2744\n",
            "96   需要       2726\n",
            "97   好像       2715\n",
            "98   結果       2704\n",
            "99   而已       2676\n",
            "\n",
            "[100 rows x 2 columns]\n"
          ],
          "name": "stdout"
        },
        {
          "output_type": "display_data",
          "data": {
            "image/png": "[encoded data removed]",
            "text/plain": [
              "<Figure size 720x360 with 1 Axes>"
            ]
          },
          "metadata": {
            "tags": [],
            "needs_background": "light"
          }
        }
      ]
    },
    {
      "cell_type": "code",
      "metadata": {
        "colab": {
          "base_uri": "https://localhost:8080/",
          "height": 164
        },
        "id": "NAzneA--Yp5C",
        "outputId": "a36ca4a5-7c45-4350-d646-794c90b985a3"
      },
      "source": [
        ""
      ],
      "execution_count": 5,
      "outputs": [
        {
          "output_type": "error",
          "ename": "NameError",
          "evalue": "ignored",
          "traceback": [
            "\u001b[0;31m---------------------------------------------------------------------------\u001b[0m",
            "\u001b[0;31mNameError\u001b[0m                                 Traceback (most recent call last)",
            "\u001b[0;32m<ipython-input-5-fdb3f27b1fd1>\u001b[0m in \u001b[0;36m<module>\u001b[0;34m()\u001b[0m\n\u001b[0;32m----> 1\u001b[0;31m \u001b[0mTF_IDF\u001b[0m\u001b[0;34m(\u001b[0m\u001b[0;34m)\u001b[0m\u001b[0;34m\u001b[0m\u001b[0;34m\u001b[0m\u001b[0m\n\u001b[0m",
            "\u001b[0;31mNameError\u001b[0m: name 'TF_IDF' is not defined"
          ]
        }
      ]
    }
  ]
}